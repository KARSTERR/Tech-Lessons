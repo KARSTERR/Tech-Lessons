{
 "cells": [
  {
   "cell_type": "markdown",
   "id": "b810890c-b299-48d9-b753-556091a14b53",
   "metadata": {},
   "source": [
    "# 3.2 NumPY Crash Course\n",
    "\n",
    "## Arrays"
   ]
  },
  {
   "cell_type": "code",
   "execution_count": 1,
   "id": "fd742a2e-a900-47c2-90ce-afd349b3d2ae",
   "metadata": {},
   "outputs": [],
   "source": [
    "import numpy as np"
   ]
  },
  {
   "cell_type": "code",
   "execution_count": 2,
   "id": "1a005508-8a0b-4871-9545-434ba2353fa2",
   "metadata": {},
   "outputs": [
    {
     "name": "stdout",
     "output_type": "stream",
     "text": [
      "1D Array:\n",
      "[1 2 3]\n"
     ]
    }
   ],
   "source": [
    "# 1D Array Creation\n",
    "a = np.array([1, 2, 3])\n",
    "print(\"1D Array:\")\n",
    "print(a)"
   ]
  },
  {
   "cell_type": "code",
   "execution_count": 3,
   "id": "47742445-32db-455b-bb3e-a6f78d3df5b6",
   "metadata": {},
   "outputs": [
    {
     "name": "stdout",
     "output_type": "stream",
     "text": [
      "\n",
      "2D Array:\n",
      "[[1 2]\n",
      " [3 4]]\n"
     ]
    }
   ],
   "source": [
    "# 2D Array Creation\n",
    "b = np.array([[1, 2], [3, 4]])\n",
    "print(\"\\n2D Array:\")\n",
    "print(b)"
   ]
  },
  {
   "cell_type": "code",
   "execution_count": 4,
   "id": "e1bae663-c1cd-4da1-8970-c407e7b20db9",
   "metadata": {},
   "outputs": [
    {
     "name": "stdout",
     "output_type": "stream",
     "text": [
      "\n",
      "Array wit Zeroes:\n",
      "[[0. 0. 0.]\n",
      " [0. 0. 0.]]\n"
     ]
    }
   ],
   "source": [
    "# Array wit Zeroes\n",
    "c = np.zeros((2, 3))\n",
    "print(\"\\nArray wit Zeroes:\")\n",
    "print(c)"
   ]
  },
  {
   "cell_type": "code",
   "execution_count": 5,
   "id": "68612a77-a354-4784-9c01-aa66666ad5a0",
   "metadata": {},
   "outputs": [
    {
     "name": "stdout",
     "output_type": "stream",
     "text": [
      "\n",
      "Array with Ones:\n",
      "[[1. 1. 1.]\n",
      " [1. 1. 1.]]\n"
     ]
    }
   ],
   "source": [
    "# Array with Ones\n",
    "d = np.ones((2, 3))\n",
    "print(\"\\nArray with Ones:\")\n",
    "print(d)"
   ]
  },
  {
   "cell_type": "code",
   "execution_count": 6,
   "id": "4bf7217e-51ee-408a-ab32-1fd878620cf1",
   "metadata": {},
   "outputs": [
    {
     "name": "stdout",
     "output_type": "stream",
     "text": [
      "\n",
      "Array with Preset Value:\n",
      "[[7 7]\n",
      " [7 7]]\n"
     ]
    }
   ],
   "source": [
    "# Array with Preset Value\n",
    "e = np.full((2, 2), 7)\n",
    "print(\"\\nArray with Preset Value:\")\n",
    "print(e)"
   ]
  },
  {
   "cell_type": "code",
   "execution_count": 7,
   "id": "d05db578-d811-4262-be9f-ad8885a1bad5",
   "metadata": {},
   "outputs": [
    {
     "name": "stdout",
     "output_type": "stream",
     "text": [
      "\n",
      "Array with Preset Value Range:\n",
      "[0 2 4 6 8]\n"
     ]
    }
   ],
   "source": [
    "# Array with Preset Value Range\n",
    "f = np.arange(0, 10, 2)\n",
    "print(\"\\nArray with Preset Value Range:\")\n",
    "print(f)"
   ]
  },
  {
   "cell_type": "code",
   "execution_count": 8,
   "id": "1f45f6f6-576b-4d29-bf7c-2522f966766d",
   "metadata": {},
   "outputs": [
    {
     "name": "stdout",
     "output_type": "stream",
     "text": [
      "\n",
      "Array with a Certain Number of Equal Intervals:\n",
      "[0.   0.25 0.5  0.75 1.  ]\n"
     ]
    }
   ],
   "source": [
    "# Array with a Certain Number of Equal Intervals\n",
    "g = np.linspace(0, 1, 5)\n",
    "print(\"\\nArray with a Certain Number of Equal Intervals:\")\n",
    "print(g)"
   ]
  },
  {
   "cell_type": "code",
   "execution_count": 9,
   "id": "4ca11add-4352-428b-b4fe-8fd933d43cde",
   "metadata": {},
   "outputs": [
    {
     "name": "stdout",
     "output_type": "stream",
     "text": [
      "\n",
      "Array wıth Random Values:\n",
      "[[0.10193613 0.0947509 ]\n",
      " [0.27313063 0.39001124]]\n"
     ]
    }
   ],
   "source": [
    "# Array wıth Random Values\n",
    "h = np.random.random((2, 2))\n",
    "print(\"\\nArray wıth Random Values:\")\n",
    "print(h)"
   ]
  },
  {
   "cell_type": "code",
   "execution_count": 11,
   "id": "c2df0bc1-4b6d-4911-9e18-974bbe48ddca",
   "metadata": {},
   "outputs": [
    {
     "name": "stdout",
     "output_type": "stream",
     "text": [
      "\n",
      "Array Dimention:\n",
      "(2, 2)\n",
      "\n",
      "Array Dimention Count:\n",
      "2\n",
      "\n",
      "Array Entity Count:\n",
      "4\n",
      "\n",
      "Array Data Type:\n",
      "int32\n",
      "\n",
      "Array Entity Dimention:\n",
      "4\n"
     ]
    }
   ],
   "source": [
    "# Array Features\n",
    "print(\"\\nArray Dimention:\")\n",
    "print(b.shape)\n",
    "print(\"\\nArray Dimention Count:\")\n",
    "print(b.ndim)\n",
    "print(\"\\nArray Entity Count:\")\n",
    "print(b.size)\n",
    "print(\"\\nArray Data Type:\")\n",
    "print(b.dtype)\n",
    "print(\"\\nArray Entity Dimention:\")\n",
    "print(b.itemsize)"
   ]
  },
  {
   "cell_type": "markdown",
   "id": "8411be69-20bc-4161-a353-c0f2c6d766cf",
   "metadata": {},
   "source": [
    "## Data Acess with NumPy"
   ]
  },
  {
   "cell_type": "code",
   "execution_count": 12,
   "id": "9315878a-9879-49fc-865f-75cdce2ba4da",
   "metadata": {},
   "outputs": [],
   "source": [
    "# Create 3x3 Matris\n",
    "arr = np.array([[1, 2, 3], [4, 5, 6], [7, 8, 9]])"
   ]
  },
  {
   "cell_type": "code",
   "execution_count": 13,
   "id": "211c9ec4-df85-4229-ad96-a7c38ddb1c42",
   "metadata": {},
   "outputs": [
    {
     "name": "stdout",
     "output_type": "stream",
     "text": [
      "Complete Array Entities:\n",
      "[[1 2 3]\n",
      " [4 5 6]\n",
      " [7 8 9]]\n"
     ]
    }
   ],
   "source": [
    "# Get all values from array\n",
    "print(\"Complete Array Entities:\")\n",
    "print(arr)"
   ]
  },
  {
   "cell_type": "code",
   "execution_count": 14,
   "id": "25b270eb-a77c-4f20-9883-9f7f78386aef",
   "metadata": {},
   "outputs": [
    {
     "name": "stdout",
     "output_type": "stream",
     "text": [
      "Value of 2nd row, 3rd column:\n",
      "6\n"
     ]
    }
   ],
   "source": [
    "# Get specific value\n",
    "print(\"Value of 2nd row, 3rd column:\")\n",
    "print(arr[1, 2]) # 6"
   ]
  },
  {
   "cell_type": "code",
   "execution_count": 15,
   "id": "4023122a-d620-4d5a-b7d1-261c1dcf2691",
   "metadata": {},
   "outputs": [
    {
     "name": "stdout",
     "output_type": "stream",
     "text": [
      "Elements in row 1, columns 2 and 3:\n",
      "[2 3]\n"
     ]
    }
   ],
   "source": [
    "# Select a section using index slicing\n",
    "print(\"Elements in row 1, columns 2 and 3:\")\n",
    "print(arr[0, 1:3]) # [2 3]"
   ]
  },
  {
   "cell_type": "code",
   "execution_count": 16,
   "id": "6b7bcd2f-9e2f-4420-8ddb-1744395a44a5",
   "metadata": {},
   "outputs": [
    {
     "name": "stdout",
     "output_type": "stream",
     "text": [
      "Updated array:\n",
      "[[1 2 3]\n",
      " [4 5 6]\n",
      " [0 0 9]]\n"
     ]
    }
   ],
   "source": [
    "# Replace a partition using index slicing\n",
    "arr[2, 0:2] = [0, 0]\n",
    "print(\"Updated array:\")\n",
    "print(arr)"
   ]
  },
  {
   "cell_type": "markdown",
   "id": "9b0ab419-28db-419b-922a-36e0fbb8d2cc",
   "metadata": {},
   "source": [
    "## Aritmetics"
   ]
  },
  {
   "cell_type": "code",
   "execution_count": 19,
   "id": "9785c332-23a6-42b1-ae66-f2bea6c04b41",
   "metadata": {},
   "outputs": [],
   "source": [
    "# Create 2 array\n",
    "a = np.array([[1, 2], [3, 4]])\n",
    "b = np.array([[5, 6], [7, 8]])"
   ]
  },
  {
   "cell_type": "code",
   "execution_count": 20,
   "id": "6cc23f54-8f16-43c6-bebd-fe16846d07bb",
   "metadata": {},
   "outputs": [
    {
     "name": "stdout",
     "output_type": "stream",
     "text": [
      "Addition:\n",
      "[[ 6  8]\n",
      " [10 12]]\n",
      "[[ 6  8]\n",
      " [10 12]]\n"
     ]
    }
   ],
   "source": [
    "# Addition\n",
    "print(\"Addition:\")\n",
    "print(np.add(a, b))\n",
    "print(a + b)"
   ]
  },
  {
   "cell_type": "code",
   "execution_count": 21,
   "id": "f149a098-06c3-4f8e-aaf4-3c8e00b3b03d",
   "metadata": {},
   "outputs": [
    {
     "name": "stdout",
     "output_type": "stream",
     "text": [
      "\n",
      "Substraction:\n",
      "[[-4 -4]\n",
      " [-4 -4]]\n",
      "[[-4 -4]\n",
      " [-4 -4]]\n"
     ]
    }
   ],
   "source": [
    "# Substraction\n",
    "print(\"\\nSubstraction:\")\n",
    "print(np.subtract(a, b))\n",
    "print(a - b)"
   ]
  },
  {
   "cell_type": "code",
   "execution_count": 22,
   "id": "c3403976-7e9d-45eb-ae7c-a12943be94fb",
   "metadata": {},
   "outputs": [
    {
     "name": "stdout",
     "output_type": "stream",
     "text": [
      "\n",
      "Multiplication:\n",
      "[[ 5 12]\n",
      " [21 32]]\n",
      "[[ 5 12]\n",
      " [21 32]]\n"
     ]
    }
   ],
   "source": [
    "# Multiplication\n",
    "print(\"\\nMultiplication:\")\n",
    "print(np.multiply(a, b))\n",
    "print(a * b)"
   ]
  },
  {
   "cell_type": "code",
   "execution_count": 23,
   "id": "a09af2f4-7b07-4cba-ad33-c9a6df3cc70b",
   "metadata": {},
   "outputs": [
    {
     "name": "stdout",
     "output_type": "stream",
     "text": [
      "\n",
      "Division:\n",
      "[[0.2        0.33333333]\n",
      " [0.42857143 0.5       ]]\n",
      "[[0.2        0.33333333]\n",
      " [0.42857143 0.5       ]]\n"
     ]
    }
   ],
   "source": [
    "# Division\n",
    "print(\"\\nDivision:\")\n",
    "print(np.divide(a, b))\n",
    "print(a / b)"
   ]
  },
  {
   "cell_type": "code",
   "execution_count": 24,
   "id": "adebe5ea-8333-41ab-b062-0ca4ab27566c",
   "metadata": {},
   "outputs": [
    {
     "name": "stdout",
     "output_type": "stream",
     "text": [
      "\n",
      "Sayı ekleme:\n",
      "[[3 4]\n",
      " [5 6]]\n"
     ]
    }
   ],
   "source": [
    "# Addition to all elements\n",
    "print(\"\\nSayı ekleme:\")\n",
    "print(np.add(a, 2))"
   ]
  },
  {
   "cell_type": "code",
   "execution_count": 25,
   "id": "d5fcce5f-443b-437c-96f1-735f70d0deb9",
   "metadata": {},
   "outputs": [
    {
     "name": "stdout",
     "output_type": "stream",
     "text": [
      "\n",
      "Kare alma:\n",
      "[[ 1  4]\n",
      " [ 9 16]]\n"
     ]
    }
   ],
   "source": [
    "# Taking square of arrays elements\n",
    "print(\"\\nKare alma:\")\n",
    "print(np.square(a))"
   ]
  },
  {
   "cell_type": "markdown",
   "id": "ba61acb1-3b71-4dfb-9865-3565e41a78aa",
   "metadata": {},
   "source": [
    "# 3.3 matplotlib Crash Course\n",
    "## Line Plot"
   ]
  },
  {
   "cell_type": "code",
   "execution_count": 27,
   "id": "2b528e37-745e-4c15-a28a-1046358a26ab",
   "metadata": {},
   "outputs": [],
   "source": [
    "import matplotlib.pyplot as plt"
   ]
  },
  {
   "cell_type": "code",
   "execution_count": 35,
   "id": "8af14753-388b-42ef-a891-94d4b2b15061",
   "metadata": {},
   "outputs": [
    {
     "data": {
      "image/png": "[encoded data removed]",
      "text/plain": [
       "<Figure size 640x480 with 1 Axes>"
      ]
     },
     "metadata": {},
     "output_type": "display_data"
    }
   ],
   "source": [
    "# Nod Points for x and y\n",
    "x = np.arange(0, 10, 0.1)\n",
    "y = np.sin(x)\n",
    "# Create line plot\n",
    "plt.plot(x, y)\n",
    "# Set x and y's tags\n",
    "plt.xlabel('X')\n",
    "plt.ylabel('Yi')\n",
    "# Set header\n",
    "plt.title('Sine Graph')\n",
    "# Get line plot\n",
    "plt.show()"
   ]
  },
  {
   "cell_type": "markdown",
   "id": "4669d286-3606-46cd-ada5-c899f3605d37",
   "metadata": {},
   "source": [
    "## Scattter Plot"
   ]
  },
  {
   "cell_type": "code",
   "execution_count": 36,
   "id": "2db703ef-73a9-4cb7-a954-9d1de689967b",
   "metadata": {},
   "outputs": [
    {
     "data": {
      "image/png": "[encoded data removed]",
      "text/plain": [
       "<Figure size 640x480 with 1 Axes>"
      ]
     },
     "metadata": {},
     "output_type": "display_data"
    }
   ],
   "source": [
    "# Create data nods\n",
    "x = np.array([1, 2, 3, 4, 5])\n",
    "y = np.array([2, 3, 5, 6, 8])\n",
    "# Create scatter plot\n",
    "plt.scatter(x, y, color='blue')\n",
    "# Set header\n",
    "plt.title('Scatter Plot Examplei')\n",
    "# Set axis tags\n",
    "plt.xlabel('X')\n",
    "plt.ylabel('Y')\n",
    "# Set axis range\n",
    "plt.xlim(0, 6)\n",
    "plt.ylim(0, 10)\n",
    "# Add grid lines\n",
    "plt.grid(True)\n",
    "# Get scatter plot\n",
    "plt.show()"
   ]
  },
  {
   "cell_type": "markdown",
   "id": "4bc737a7-fadd-42da-97d9-0be99e7125f1",
   "metadata": {},
   "source": [
    "## Bar Plot"
   ]
  },
  {
   "cell_type": "code",
   "execution_count": 37,
   "id": "a789a3d0-ae2a-4e9b-b36c-39a602aaaf84",
   "metadata": {},
   "outputs": [
    {
     "data": {
      "image/png": "[encoded data removed]",
      "text/plain": [
       "<Figure size 640x480 with 1 Axes>"
      ]
     },
     "metadata": {},
     "output_type": "display_data"
    }
   ],
   "source": [
    "# Data\n",
    "labels = ['A', 'B', 'C', 'D']\n",
    "values = [3, 8, 1, 10]\n",
    "# Create bar plot\n",
    "plt.bar(labels, values)\n",
    "# Set axis tags and header\n",
    "plt.xlabel('X')\n",
    "plt.ylabel('Y')\n",
    "plt.title('Bar Plot Example')\n",
    "# Get bar plot\n",
    "plt.show()"
   ]
  },
  {
   "cell_type": "markdown",
   "id": "407755dc-33c1-48c4-8b73-d07883b30b9a",
   "metadata": {},
   "source": [
    "## Histogram Plot"
   ]
  },
  {
   "cell_type": "code",
   "execution_count": 38,
   "id": "929947fb-1c84-42dc-b3b5-f90b1cf8fd36",
   "metadata": {},
   "outputs": [
    {
     "data": {
      "image/png": "[encoded data removed]",
      "text/plain": [
       "<Figure size 640x480 with 1 Axes>"
      ]
     },
     "metadata": {},
     "output_type": "display_data"
    }
   ],
   "source": [
    "# Generate random values\n",
    "veri = np.random.normal(0, 20, 100)\n",
    "# Create histogram plot\n",
    "plt.hist(veri, bins=10, color='blue')\n",
    "# Set axis tags and header\n",
    "plt.xlabel('Data Range')\n",
    "plt.ylabel('Data Count')\n",
    "plt.title('Histogram Plot Example')\n",
    "# Grafiği gösterme\n",
    "plt.show()\n"
   ]
  },
  {
   "cell_type": "markdown",
   "id": "c8ba9188-2e23-460e-a7ff-4741a6194725",
   "metadata": {},
   "source": [
    "## Box Plot"
   ]
  },
  {
   "cell_type": "code",
   "execution_count": 39,
   "id": "eb8aee62-d404-4040-a4be-9f9f4cd33706",
   "metadata": {},
   "outputs": [
    {
     "data": {
      "image/png": "[encoded data removed]",
      "text/plain": [
       "<Figure size 640x480 with 1 Axes>"
      ]
     },
     "metadata": {},
     "output_type": "display_data"
    }
   ],
   "source": [
    "# Generate Random Data\n",
    "veriler = np.random.normal(loc=50, scale=10, size=100)\n",
    "# Create box plot\n",
    "plt.boxplot(veriler)\n",
    "# Set axis tags \n",
    "plt.xlabel('Values')\n",
    "plt.ylabel('Distribution')\n",
    "# Set header\n",
    "plt.title('Box Plot Example')\n",
    "# Get Boxplot\n",
    "plt.show()"
   ]
  },
  {
   "cell_type": "markdown",
   "id": "128bdee8-c971-4970-a5e7-843e28de5584",
   "metadata": {},
   "source": [
    "## Area Plot"
   ]
  },
  {
   "cell_type": "code",
   "execution_count": 40,
   "id": "d216c2a8-1fe8-4a10-8449-9886527f4c3f",
   "metadata": {},
   "outputs": [
    {
     "data": {
      "image/png": "[encoded data removed]",
      "text/plain": [
       "<Figure size 640x480 with 1 Axes>"
      ]
     },
     "metadata": {},
     "output_type": "display_data"
    }
   ],
   "source": [
    "# Create Data\n",
    "x = np.arange(1, 11)\n",
    "y = np.array([2, 4, 6, 8, 7, 5, 6, 4, 8, 10])\n",
    "# Create area plot\n",
    "plt.fill_between(x, y, color='green', alpha=0.2)\n",
    "plt.plot(x, y, color='green')\n",
    "# Set axis tags and header\n",
    "plt.title('Area Plot Example')\n",
    "plt.xlabel('X')\n",
    "plt.ylabel('Y')\n",
    "# Show area plot\n",
    "plt.show()"
   ]
  },
  {
   "cell_type": "markdown",
   "id": "1ef22395-7d23-4abf-b071-da9cad0578ec",
   "metadata": {},
   "source": [
    "# 3.4 Pandas Crash Course\n",
    "## Series"
   ]
  },
  {
   "cell_type": "code",
   "execution_count": 41,
   "id": "fc96e210-2e04-4f4e-bf5c-ec89a128de57",
   "metadata": {},
   "outputs": [],
   "source": [
    "import pandas as pd"
   ]
  },
  {
   "cell_type": "code",
   "execution_count": 42,
   "id": "b2dab167-9ada-42e2-889e-4b57bab3502a",
   "metadata": {},
   "outputs": [
    {
     "name": "stdout",
     "output_type": "stream",
     "text": [
      "0    1\n",
      "1    3\n",
      "2    5\n",
      "3    7\n",
      "4    9\n",
      "dtype: int64\n"
     ]
    }
   ],
   "source": [
    "# Create series based on array\n",
    "data = [1, 3, 5, 7, 9]\n",
    "series = pd.Series(data)\n",
    "print(series)"
   ]
  },
  {
   "cell_type": "code",
   "execution_count": 43,
   "id": "7906bd6b-857c-425d-957b-b2cca84e98c1",
   "metadata": {},
   "outputs": [
    {
     "name": "stdout",
     "output_type": "stream",
     "text": [
      "a    1\n",
      "b    3\n",
      "c    5\n",
      "d    7\n",
      "dtype: int64\n"
     ]
    }
   ],
   "source": [
    "# Create series based on dictionary\n",
    "data = {'a': 1, 'b': 3, 'c': 5, 'd': 7}\n",
    "series = pd.Series(data)\n",
    "print(series)"
   ]
  },
  {
   "cell_type": "code",
   "execution_count": 48,
   "id": "ede61562-7951-4bb0-915f-c7b8a9e69da2",
   "metadata": {},
   "outputs": [],
   "source": [
    "# Create series\n",
    "seri = pd.Series([10, 20, 30, 40, 50], index=['a', 'b', 'c', 'd','e'])"
   ]
  },
  {
   "cell_type": "code",
   "execution_count": 49,
   "id": "0ce92810-ca55-4342-a54e-b70f1d56bac8",
   "metadata": {},
   "outputs": [
    {
     "name": "stdout",
     "output_type": "stream",
     "text": [
      "Series:\n",
      "a    10\n",
      "b    20\n",
      "c    30\n",
      "d    40\n",
      "e    50\n",
      "dtype: int64\n"
     ]
    }
   ],
   "source": [
    "# Get all series values\n",
    "print(\"Series:\")\n",
    "print(seri)"
   ]
  },
  {
   "cell_type": "code",
   "execution_count": 50,
   "id": "42f70860-682c-4903-8061-a8d919af243e",
   "metadata": {},
   "outputs": [
    {
     "name": "stdout",
     "output_type": "stream",
     "text": [
      "\n",
      "Elementsr:\n",
      "10\n",
      "20\n",
      "30\n",
      "40\n",
      "50\n"
     ]
    }
   ],
   "source": [
    "# İndexe göre elemanlara erişim\n",
    "print(\"\\nElementsr:\")\n",
    "print(seri['a'])\n",
    "print(seri['b'])\n",
    "print(seri['c'])\n",
    "print(seri['d'])\n",
    "print(seri['e'])"
   ]
  },
  {
   "cell_type": "code",
   "execution_count": 53,
   "id": "f96e1df0-e794-4849-8519-22971cc6af52",
   "metadata": {},
   "outputs": [
    {
     "name": "stdout",
     "output_type": "stream",
     "text": [
      "\n",
      "Elements in Order:\n",
      "10\n",
      "20\n",
      "30\n",
      "40\n",
      "50\n"
     ]
    }
   ],
   "source": [
    "print(\"\\nElements in Order:\")\n",
    "print(seri.iloc[0])\n",
    "print(seri.iloc[1])\n",
    "print(seri.iloc[2])\n",
    "print(seri.iloc[3])\n",
    "print(seri.iloc[4]) "
   ]
  },
  {
   "cell_type": "markdown",
   "id": "5d120411-799c-4a2f-80e6-90c9a949ef09",
   "metadata": {},
   "source": [
    "## Dataframe\n",
    "### Example 1"
   ]
  },
  {
   "cell_type": "code",
   "execution_count": 55,
   "id": "b64a3b0f-1f8c-4e40-bd80-027c33c6f8c7",
   "metadata": {},
   "outputs": [],
   "source": [
    "# Store data on lists\n",
    "isimler = ['Efe', 'Sacit', 'Mert', 'Aslı']\n",
    "yaslar = [25, 32, 18, 27]"
   ]
  },
  {
   "cell_type": "code",
   "execution_count": 57,
   "id": "f9b37ba4-a175-481b-b462-a7c596f00e77",
   "metadata": {},
   "outputs": [
    {
     "name": "stdout",
     "output_type": "stream",
     "text": [
      "  İsimler  Yaşlar\n",
      "0     Efe      25\n",
      "1   Sacit      32\n",
      "2    Mert      18\n",
      "3    Aslı      27\n"
     ]
    }
   ],
   "source": [
    "# Use arrays for creating dataframe\n",
    "df = pd.DataFrame({'İsimler': isimler, 'Yaşlar': yaslar})\n",
    "print(df)"
   ]
  },
  {
   "cell_type": "markdown",
   "id": "0370f908-d2b8-42be-8120-ddccf1f4c990",
   "metadata": {},
   "source": [
    "### Example 2"
   ]
  },
  {
   "cell_type": "code",
   "execution_count": null,
   "id": "f1135735-cb89-4c97-9f95-ed767d14ba65",
   "metadata": {},
   "outputs": [],
   "source": [
    "# Set datafram\n",
    "data = {'isim': ['Ahmet', 'Mehmet', 'Ayşe', 'Fatma', 'Zeynep'],\n",
    "'yas': [23, 30, 18, 31, 28],\n",
    "'cinsiyet': ['E', 'E', 'K', 'K', 'K'],\n",
    "'maas': [5000, 6000, 4000, 7000, 4500]}\n",
    "df = pd.DataFrame(data)\n",
    "\n",
    "\n",
    "# belirli bir sırayı seçme\n",
    "print(df.loc[2])\n",
    "# belirli bir sırayı ve sütunu seçme\n",
    "print(df.loc[1, 'maas'])\n",
    "# iloc kullanarak belirli bir sırayı ve sütunu seçme\n",
    "print(df.iloc[2, 3])\n",
    "# belirli bir aralıktaki satırları ve sütunları seçme\n",
    "print(df.loc[1:3, 'isim':'cinsiyet'])\n",
    "print(df.iloc[1:3, 0:3])"
   ]
  },
  {
   "cell_type": "code",
   "execution_count": null,
   "id": "23ce3952-10ab-42d4-88a2-e97ebcdde6a2",
   "metadata": {},
   "outputs": [],
   "source": [
    "# Get dataframe values\n",
    "print(df)"
   ]
  },
  {
   "cell_type": "code",
   "execution_count": null,
   "id": "bdd70995-f83a-4d90-b83e-f103598c213c",
   "metadata": {},
   "outputs": [],
   "source": [
    "# Get spesific value\n",
    "print(df['isim'])"
   ]
  }
 ],
 "metadata": {
  "kernelspec": {
   "display_name": "Python 3 (ipykernel)",
   "language": "python",
   "name": "python3"
  },
  "language_info": {
   "codemirror_mode": {
    "name": "ipython",
    "version": 3
   },
   "file_extension": ".py",
   "mimetype": "text/x-python",
   "name": "python",
   "nbconvert_exporter": "python",
   "pygments_lexer": "ipython3",
   "version": "3.12.7"
  }
 },
 "nbformat": 4,
 "nbformat_minor": 5
}
